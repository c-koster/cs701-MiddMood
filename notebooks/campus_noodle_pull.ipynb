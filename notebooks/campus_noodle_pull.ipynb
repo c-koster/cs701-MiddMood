{
 "cells": [
  {
   "cell_type": "code",
   "execution_count": 3,
   "metadata": {},
   "outputs": [
    {
     "name": "stdout",
     "output_type": "stream",
     "text": [
      "                                              Header  \\\n",
      "0  Breaking: Leaked Documents Show MCAB promises ...   \n",
      "1  Virtue Field House Track Converted to Runway, ...   \n",
      "2  Op-Ed: Middlebury Must Rescind The Kraken’s Ho...   \n",
      "3  Student’s Instagram Story of Sunset Wins Pulit...   \n",
      "4  Unable To Go Down Ski Slope, Feb Grads Go Down...   \n",
      "\n",
      "                                                link  \n",
      "0  https://thelocalnoodle.com/2021/03/03/breaking...  \n",
      "1  https://thelocalnoodle.com/2021/02/22/virtue-f...  \n",
      "2  https://thelocalnoodle.com/2021/01/15/op-ed-mi...  \n",
      "3  https://thelocalnoodle.com/2020/11/19/students...  \n",
      "4  https://thelocalnoodle.com/2020/11/16/unable-t...  \n",
      "                                              Header  \\\n",
      "0  college poised to create education studies dua...   \n",
      "1              rises in financial aid cause deficits   \n",
      "2         russian journalist tikhon dzyadko to speak   \n",
      "3           evelin toth 17 awarded watson fellowship   \n",
      "4              student government association update   \n",
      "\n",
      "                                                Link  \n",
      "0  https://middleburycampus.com/35091/news/colleg...  \n",
      "1  https://middleburycampus.com/35093/news/rises-...  \n",
      "2  https://middleburycampus.com/35095/news/russia...  \n",
      "3  https://middleburycampus.com/35098/news/evelin...  \n",
      "4  https://middleburycampus.com/35101/news/studen...  \n"
     ]
    }
   ],
   "source": [
    "# let's get some text to play with ASAP -- \n",
    "from scraping_lib import fetch_all_campus, fetch_all_noodle\n",
    "import pandas as pd\n",
    "from bs4 import BeautifulSoup\n",
    "\n",
    "\n",
    "\n",
    "\n",
    "n = fetch_all_noodle()\n",
    "c = fetch_all_campus()\n",
    "\n",
    "df_n = pd.DataFrame(n, columns=['Header', 'link'])\n",
    "\n",
    "df_c = pd.DataFrame(c, columns=['Header', 'Link'])\n",
    "\n",
    "\n",
    "print(df_n.head())\n",
    "print(df_c.head())\n",
    "\n"
   ]
  },
  {
   "cell_type": "code",
   "execution_count": 10,
   "metadata": {},
   "outputs": [
    {
     "name": "stdout",
     "output_type": "stream",
     "text": [
      "Evelin Toth ‘17 was recently awarded the prestigious Thomas J. Watson Fellowship. The Watson program, established in 1961, is a highly selective program that funds a year of international study for its forty-nine fellows. An environmental studies major and French minor, Toth plans to use her Watson year to study the effects of climate change on island communities.Toth’s project, titled “Adapting to the Rising Seas: Climate Change and Island Communities,” will study the unique problems faced by these areas in handling the global issue of climate change.“I decided to focus on islands, because island communities and ecosystems are particularly vulnerable to the effects of climate change. Due to this exceptional vulnerability, climate adaptation is a particularly acute issue in these places,” Toth said. Toth will travel to Sri Lanka, Indonesia, Taiwan, Samoa and Ecuador’s Galapagos Islands and will connect with local NGOs and environmental activists to conduct her project.Toth hopes to gain a holistic view of how these communities alleviate problems related to climate change.“While I have learnt a lot about climate change through an academic lens, I have always felt that in order to gain a profound understanding of its impacts, one has to engage with those communities that are directly affected by it,” Toth said.Toth’s project will help her to better understand climate change and global solutions.“I think that my Watson experience will be a bittersweet journey; I will learn about how climate change is affecting people’s lives and testing nature’s resilience. But I am also hoping to see how this shared, global challenge can unite us and help us rethink our relationship with nature,” Toth said.Toth first learned about the Watson Fellowship her sophomore year and immediately knew that she wanted to apply for it. The application process began in the spring of her junior year and ended almost a year later.“The Watson Fellowship pushes fellows to explore places where they have never been before. I grew up in Hungary, lived in Singapore for two years and moved to the States when I started college– engaging with people from different cultures and parts of the world has been an enriching experience in so many ways,” Toth said.After she completes her project, Toth will continue her studies at the Yale School of Forestry and Environmental Management. “I am confident that the experiences I will gain during my Watson year will help me focus on the most crucial aspects of the climate problem in my future studies. Ultimately, I hope that the Watson year will make me be better prepared to join the global movement to combat climate change,” Toth said.\n"
     ]
    }
   ],
   "source": [
    "import requests\n",
    "\n",
    "def get_article_text_noodle(link):\n",
    "    r = requests.get(link)\n",
    "    html_doc = r.content\n",
    "    soup = BeautifulSoup( html_doc , 'html.parser')\n",
    "    text = \"\"\n",
    "    content = soup.find_all(\"div\",{\"class\": \"entry-content\"})[0]\n",
    "    for p in content.find_all(\"p\"):\n",
    "        text = text + p.text\n",
    "    \n",
    "    return text\n",
    "\n",
    "\n",
    "def get_article_text_campus(link):\n",
    "    r = requests.get(link)\n",
    "    html_doc = r.content\n",
    "    soup = BeautifulSoup( html_doc , 'html.parser')\n",
    "    text = \"\"\n",
    "    content = soup.find_all(\"span\",{\"class\": \"storycontent\"})[0]\n",
    "    for p in content.find_all(\"p\"):\n",
    "        text = text + p.text\n",
    "\n",
    "\n",
    "    return text\n",
    "\n",
    "l = \"https://middleburycampus.com/35098/news/evelin-toth-17-awarded-watson-fellowship/\"\n",
    "story = get_article_text_campus(l)\n",
    "print(story)"
   ]
  },
  {
   "cell_type": "code",
   "execution_count": null,
   "metadata": {},
   "outputs": [],
   "source": []
  }
 ],
 "metadata": {
  "kernelspec": {
   "display_name": "Python 3",
   "language": "python",
   "name": "python3"
  },
  "language_info": {
   "codemirror_mode": {
    "name": "ipython",
    "version": 3
   },
   "file_extension": ".py",
   "mimetype": "text/x-python",
   "name": "python",
   "nbconvert_exporter": "python",
   "pygments_lexer": "ipython3",
   "version": "3.7.6"
  }
 },
 "nbformat": 4,
 "nbformat_minor": 4
}
